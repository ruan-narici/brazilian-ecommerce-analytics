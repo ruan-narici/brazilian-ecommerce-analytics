{
  "nbformat": 4,
  "nbformat_minor": 0,
  "metadata": {
    "colab": {
      "provenance": [],
      "mount_file_id": "10NUxsLXHiojJpULIhFBkAMvDukkxmJtu",
      "authorship_tag": "ABX9TyPaK1jXsZ0Tv0VE0su3zs0x",
      "include_colab_link": true
    },
    "kernelspec": {
      "name": "python3",
      "display_name": "Python 3"
    },
    "language_info": {
      "name": "python"
    }
  },
  "cells": [
    {
      "cell_type": "markdown",
      "metadata": {
        "id": "view-in-github",
        "colab_type": "text"
      },
      "source": [
        "<a href=\"https://colab.research.google.com/github/ruan-narici/brazilian_ecommerce_analytics/blob/main/brazilian_ecommerce_analytics.ipynb\" target=\"_parent\"><img src=\"https://colab.research.google.com/assets/colab-badge.svg\" alt=\"Open In Colab\"/></a>"
      ]
    },
    {
      "cell_type": "markdown",
      "source": [
        "# Desafio de Projeto: Análise de Vendas e Entregas no E-commerce Brasileiro"
      ],
      "metadata": {
        "id": "ONsOMDbfPGO0"
      }
    },
    {
      "cell_type": "markdown",
      "source": [
        "Imports"
      ],
      "metadata": {
        "id": "W42BLQqkPLIv"
      }
    },
    {
      "cell_type": "code",
      "execution_count": 1,
      "metadata": {
        "id": "TNZx59CZOBFS"
      },
      "outputs": [],
      "source": [
        "import pandas as pd"
      ]
    },
    {
      "cell_type": "markdown",
      "source": [
        "Load datasets"
      ],
      "metadata": {
        "id": "JV4_9uEHP8ag"
      }
    },
    {
      "cell_type": "code",
      "source": [
        "df_customers = pd.read_csv(\"/content/drive/MyDrive/Documentos/Dataset/Brazilian E-Commerce Public Dataset by Olist/olist_customers_dataset.csv\") #OK\n",
        "df_geolocation = pd.read_csv(\"/content/drive/MyDrive/Documentos/Dataset/Brazilian E-Commerce Public Dataset by Olist/olist_geolocation_dataset.csv\")\n",
        "df_order_items = pd.read_csv(\"/content/drive/MyDrive/Documentos/Dataset/Brazilian E-Commerce Public Dataset by Olist/olist_order_items_dataset.csv\") #OK\n",
        "df_order_payments = pd.read_csv(\"/content/drive/MyDrive/Documentos/Dataset/Brazilian E-Commerce Public Dataset by Olist/olist_order_payments_dataset.csv\")\n",
        "df_order_reviews = pd.read_csv(\"/content/drive/MyDrive/Documentos/Dataset/Brazilian E-Commerce Public Dataset by Olist/olist_order_reviews_dataset.csv\") #OK\n",
        "df_orders = pd.read_csv(\"/content/drive/MyDrive/Documentos/Dataset/Brazilian E-Commerce Public Dataset by Olist/olist_orders_dataset.csv\") #OK\n",
        "df_products = pd.read_csv(\"/content/drive/MyDrive/Documentos/Dataset/Brazilian E-Commerce Public Dataset by Olist/olist_products_dataset.csv\") #OK\n",
        "df_sellers = pd.read_csv(\"/content/drive/MyDrive/Documentos/Dataset/Brazilian E-Commerce Public Dataset by Olist/olist_sellers_dataset.csv\") #OK\n",
        "df_product_category_name_translation = pd.read_csv(\"/content/drive/MyDrive/Documentos/Dataset/Brazilian E-Commerce Public Dataset by Olist/product_category_name_translation.csv\") #OK"
      ],
      "metadata": {
        "id": "DIk3gPIePNRZ"
      },
      "execution_count": 3,
      "outputs": []
    },
    {
      "cell_type": "markdown",
      "source": [
        "Define Types"
      ],
      "metadata": {
        "id": "qXQVoK9-S9is"
      }
    },
    {
      "cell_type": "code",
      "source": [
        "# Order Items\n",
        "df_order_items[\"shipping_limit_date\"] = pd.to_datetime(df_order_items[\"shipping_limit_date\"])\n",
        "\n",
        "# Order Reviews\n",
        "df_order_reviews[\"review_creation_date\"] = pd.to_datetime(df_order_reviews[\"review_creation_date\"])\n",
        "df_order_reviews[\"review_answer_timestamp\"] = pd.to_datetime(df_order_reviews[\"review_answer_timestamp\"])\n",
        "\n",
        "# Orders\n",
        "df_orders[\"order_purchase_timestamp\"] = pd.to_datetime(df_orders[\"order_purchase_timestamp\"])\n",
        "df_orders[\"order_approved_at\"] = pd.to_datetime(df_orders[\"order_approved_at\"])\n",
        "df_orders[\"order_delivered_carrier_date\"] = pd.to_datetime(df_orders[\"order_delivered_carrier_date\"])\n",
        "df_orders[\"order_delivered_customer_date\"] = pd.to_datetime(df_orders[\"order_delivered_customer_date\"])\n",
        "df_orders[\"order_estimated_delivery_date\"] = pd.to_datetime(df_orders[\"order_estimated_delivery_date\"])"
      ],
      "metadata": {
        "id": "64cgD8BMP_E6"
      },
      "execution_count": 39,
      "outputs": []
    },
    {
      "cell_type": "code",
      "source": [
        "df_merged = df_orders.merge(df_order_items, on=\"order_id\")\n",
        "df_merged = df_merged.merge(df_customers, on=\"customer_id\")\n",
        "df_merged = df_merged.merge(df_sellers, on=\"seller_id\")\n",
        "df_merged = df_merged.merge(df_products, on=\"product_id\")\n",
        "df_merged = df_merged.merge(df_order_payments, on=\"order_id\")\n",
        "df_merged = df_merged.merge(df_product_category_name_translation, on=\"product_category_name\")\n",
        "df_merged = df_merged.merge(df_order_reviews, on=\"order_id\")\n",
        "df_merged.columns\n"
      ],
      "metadata": {
        "colab": {
          "base_uri": "https://localhost:8080/"
        },
        "id": "LbPLWeYQQi5z",
        "outputId": "c5feeea3-25ab-4827-cf01-dcbb03eef57e"
      },
      "execution_count": 68,
      "outputs": [
        {
          "output_type": "execute_result",
          "data": {
            "text/plain": [
              "Index(['order_id', 'customer_id', 'order_status', 'order_purchase_timestamp',\n",
              "       'order_approved_at', 'order_delivered_carrier_date',\n",
              "       'order_delivered_customer_date', 'order_estimated_delivery_date',\n",
              "       'order_item_id', 'product_id', 'seller_id', 'shipping_limit_date',\n",
              "       'price', 'freight_value', 'customer_unique_id',\n",
              "       'customer_zip_code_prefix', 'customer_city', 'customer_state',\n",
              "       'seller_zip_code_prefix', 'seller_city', 'seller_state',\n",
              "       'product_category_name', 'product_name_lenght',\n",
              "       'product_description_lenght', 'product_photos_qty', 'product_weight_g',\n",
              "       'product_length_cm', 'product_height_cm', 'product_width_cm',\n",
              "       'payment_sequential', 'payment_type', 'payment_installments',\n",
              "       'payment_value', 'product_category_name_english', 'review_id',\n",
              "       'review_score', 'review_comment_title', 'review_comment_message',\n",
              "       'review_creation_date', 'review_answer_timestamp'],\n",
              "      dtype='object')"
            ]
          },
          "metadata": {},
          "execution_count": 68
        }
      ]
    },
    {
      "cell_type": "code",
      "source": [
        "df_merged.head(1)"
      ],
      "metadata": {
        "colab": {
          "base_uri": "https://localhost:8080/",
          "height": 147
        },
        "id": "qaP_KcehQpP0",
        "outputId": "8227c300-2503-4017-f6fb-4a91e5a4b3e2"
      },
      "execution_count": 69,
      "outputs": [
        {
          "output_type": "execute_result",
          "data": {
            "text/plain": [
              "                           order_id                       customer_id  \\\n",
              "0  e481f51cbdc54678b7cc49136f2d6af7  9ef432eb6251297304e76186b10a928d   \n",
              "\n",
              "  order_status order_purchase_timestamp   order_approved_at  \\\n",
              "0    delivered      2017-10-02 10:56:33 2017-10-02 11:07:15   \n",
              "\n",
              "  order_delivered_carrier_date order_delivered_customer_date  \\\n",
              "0          2017-10-04 19:55:00           2017-10-10 21:25:13   \n",
              "\n",
              "  order_estimated_delivery_date  order_item_id  \\\n",
              "0                    2017-10-18              1   \n",
              "\n",
              "                         product_id  ... payment_type payment_installments  \\\n",
              "0  87285b34884572647811a353c7ac498a  ...  credit_card                    1   \n",
              "\n",
              "   payment_value  product_category_name_english  \\\n",
              "0          18.12                     housewares   \n",
              "\n",
              "                          review_id  review_score review_comment_title  \\\n",
              "0  a54f0611adc9ed256b57ede6b6eb5114             4                  NaN   \n",
              "\n",
              "                              review_comment_message  review_creation_date  \\\n",
              "0  Não testei o produto ainda, mas ele veio corre...            2017-10-11   \n",
              "\n",
              "  review_answer_timestamp  \n",
              "0     2017-10-12 03:43:48  \n",
              "\n",
              "[1 rows x 40 columns]"
            ],
            "text/html": [
              "\n",
              "  <div id=\"df-6efee0ae-5031-431f-868b-409dc67e76e7\" class=\"colab-df-container\">\n",
              "    <div>\n",
              "<style scoped>\n",
              "    .dataframe tbody tr th:only-of-type {\n",
              "        vertical-align: middle;\n",
              "    }\n",
              "\n",
              "    .dataframe tbody tr th {\n",
              "        vertical-align: top;\n",
              "    }\n",
              "\n",
              "    .dataframe thead th {\n",
              "        text-align: right;\n",
              "    }\n",
              "</style>\n",
              "<table border=\"1\" class=\"dataframe\">\n",
              "  <thead>\n",
              "    <tr style=\"text-align: right;\">\n",
              "      <th></th>\n",
              "      <th>order_id</th>\n",
              "      <th>customer_id</th>\n",
              "      <th>order_status</th>\n",
              "      <th>order_purchase_timestamp</th>\n",
              "      <th>order_approved_at</th>\n",
              "      <th>order_delivered_carrier_date</th>\n",
              "      <th>order_delivered_customer_date</th>\n",
              "      <th>order_estimated_delivery_date</th>\n",
              "      <th>order_item_id</th>\n",
              "      <th>product_id</th>\n",
              "      <th>...</th>\n",
              "      <th>payment_type</th>\n",
              "      <th>payment_installments</th>\n",
              "      <th>payment_value</th>\n",
              "      <th>product_category_name_english</th>\n",
              "      <th>review_id</th>\n",
              "      <th>review_score</th>\n",
              "      <th>review_comment_title</th>\n",
              "      <th>review_comment_message</th>\n",
              "      <th>review_creation_date</th>\n",
              "      <th>review_answer_timestamp</th>\n",
              "    </tr>\n",
              "  </thead>\n",
              "  <tbody>\n",
              "    <tr>\n",
              "      <th>0</th>\n",
              "      <td>e481f51cbdc54678b7cc49136f2d6af7</td>\n",
              "      <td>9ef432eb6251297304e76186b10a928d</td>\n",
              "      <td>delivered</td>\n",
              "      <td>2017-10-02 10:56:33</td>\n",
              "      <td>2017-10-02 11:07:15</td>\n",
              "      <td>2017-10-04 19:55:00</td>\n",
              "      <td>2017-10-10 21:25:13</td>\n",
              "      <td>2017-10-18</td>\n",
              "      <td>1</td>\n",
              "      <td>87285b34884572647811a353c7ac498a</td>\n",
              "      <td>...</td>\n",
              "      <td>credit_card</td>\n",
              "      <td>1</td>\n",
              "      <td>18.12</td>\n",
              "      <td>housewares</td>\n",
              "      <td>a54f0611adc9ed256b57ede6b6eb5114</td>\n",
              "      <td>4</td>\n",
              "      <td>NaN</td>\n",
              "      <td>Não testei o produto ainda, mas ele veio corre...</td>\n",
              "      <td>2017-10-11</td>\n",
              "      <td>2017-10-12 03:43:48</td>\n",
              "    </tr>\n",
              "  </tbody>\n",
              "</table>\n",
              "<p>1 rows × 40 columns</p>\n",
              "</div>\n",
              "    <div class=\"colab-df-buttons\">\n",
              "\n",
              "  <div class=\"colab-df-container\">\n",
              "    <button class=\"colab-df-convert\" onclick=\"convertToInteractive('df-6efee0ae-5031-431f-868b-409dc67e76e7')\"\n",
              "            title=\"Convert this dataframe to an interactive table.\"\n",
              "            style=\"display:none;\">\n",
              "\n",
              "  <svg xmlns=\"http://www.w3.org/2000/svg\" height=\"24px\" viewBox=\"0 -960 960 960\">\n",
              "    <path d=\"M120-120v-720h720v720H120Zm60-500h600v-160H180v160Zm220 220h160v-160H400v160Zm0 220h160v-160H400v160ZM180-400h160v-160H180v160Zm440 0h160v-160H620v160ZM180-180h160v-160H180v160Zm440 0h160v-160H620v160Z\"/>\n",
              "  </svg>\n",
              "    </button>\n",
              "\n",
              "  <style>\n",
              "    .colab-df-container {\n",
              "      display:flex;\n",
              "      gap: 12px;\n",
              "    }\n",
              "\n",
              "    .colab-df-convert {\n",
              "      background-color: #E8F0FE;\n",
              "      border: none;\n",
              "      border-radius: 50%;\n",
              "      cursor: pointer;\n",
              "      display: none;\n",
              "      fill: #1967D2;\n",
              "      height: 32px;\n",
              "      padding: 0 0 0 0;\n",
              "      width: 32px;\n",
              "    }\n",
              "\n",
              "    .colab-df-convert:hover {\n",
              "      background-color: #E2EBFA;\n",
              "      box-shadow: 0px 1px 2px rgba(60, 64, 67, 0.3), 0px 1px 3px 1px rgba(60, 64, 67, 0.15);\n",
              "      fill: #174EA6;\n",
              "    }\n",
              "\n",
              "    .colab-df-buttons div {\n",
              "      margin-bottom: 4px;\n",
              "    }\n",
              "\n",
              "    [theme=dark] .colab-df-convert {\n",
              "      background-color: #3B4455;\n",
              "      fill: #D2E3FC;\n",
              "    }\n",
              "\n",
              "    [theme=dark] .colab-df-convert:hover {\n",
              "      background-color: #434B5C;\n",
              "      box-shadow: 0px 1px 3px 1px rgba(0, 0, 0, 0.15);\n",
              "      filter: drop-shadow(0px 1px 2px rgba(0, 0, 0, 0.3));\n",
              "      fill: #FFFFFF;\n",
              "    }\n",
              "  </style>\n",
              "\n",
              "    <script>\n",
              "      const buttonEl =\n",
              "        document.querySelector('#df-6efee0ae-5031-431f-868b-409dc67e76e7 button.colab-df-convert');\n",
              "      buttonEl.style.display =\n",
              "        google.colab.kernel.accessAllowed ? 'block' : 'none';\n",
              "\n",
              "      async function convertToInteractive(key) {\n",
              "        const element = document.querySelector('#df-6efee0ae-5031-431f-868b-409dc67e76e7');\n",
              "        const dataTable =\n",
              "          await google.colab.kernel.invokeFunction('convertToInteractive',\n",
              "                                                    [key], {});\n",
              "        if (!dataTable) return;\n",
              "\n",
              "        const docLinkHtml = 'Like what you see? Visit the ' +\n",
              "          '<a target=\"_blank\" href=https://colab.research.google.com/notebooks/data_table.ipynb>data table notebook</a>'\n",
              "          + ' to learn more about interactive tables.';\n",
              "        element.innerHTML = '';\n",
              "        dataTable['output_type'] = 'display_data';\n",
              "        await google.colab.output.renderOutput(dataTable, element);\n",
              "        const docLink = document.createElement('div');\n",
              "        docLink.innerHTML = docLinkHtml;\n",
              "        element.appendChild(docLink);\n",
              "      }\n",
              "    </script>\n",
              "  </div>\n",
              "\n",
              "\n",
              "    </div>\n",
              "  </div>\n"
            ],
            "application/vnd.google.colaboratory.intrinsic+json": {
              "type": "dataframe",
              "variable_name": "df_merged"
            }
          },
          "metadata": {},
          "execution_count": 69
        }
      ]
    }
  ]
}